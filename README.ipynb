{
 "cells": [
  {
   "cell_type": "markdown",
   "metadata": {},
   "source": [
    "<img src=\"http://mybinder.org/assets/images/logo.svg\" align=\"center\">\n",
    "\n",
    "\n",
    "\n",
    "#  <center><font color='deepskyblue'>Welcome to Binderized Octave & Python interactive notebooks!</font></center>\n",
    "\n",
    "\n",
    "## <center><font color='salmon'>Data analysis and visualization. One click away. Interactive. On your browser.</font></center>\n",
    "\n",
    "### <center><font color='darkorange'>Binder provides an easy way to turn a GitHub repo into a collection of interactive notebooks!</font></center>\n",
    "\n",
    "<hr>\n"
   ]
  },
  {
   "cell_type": "markdown",
   "metadata": {},
   "source": [
    "<img src='https://image.freepik.com/free-icon/laptop-pie-chart-on-screen_318-55109.jpg' align=\"center\" style=\"width:256px;height:256px;\">\n",
    "\n",
    "# <center><font color='deepskyblue'>Load, analyze and visualize our example dataset!</font><center>\n",
    "\n",
    "## <font color='salmon'>In our [GitHub repo](https://github.com/agahkarakuzu/joctave), we provide two Jupyter notebooks containing analysis scripts and a Dockerfile that defines the environment for Binder.</font>\n",
    "<hr>\n",
    "\n",
    "# <font color='darkorange'>How to run?</font>\n",
    "\n",
    "### <font color='gray'>1. Open [MTRDemo notebook](MTRDemo.ipynb) and follow the instructions to calculate Magnetization Transfer Ratio (MTR) and its correlation with macromolecular pool size (Fmap).</font>\n",
    "\n",
    "### <font color='gray'>2. After running MTRDemo notebook, open [lgnPlot notebook](lgnPlot.ipynb) and follow the instructions. This will visualize the results by reading the output from the previous notebook. </font>\n",
    "<hr>"
   ]
  },
  {
   "cell_type": "markdown",
   "metadata": {},
   "source": [
    "<img src='https://image.freepik.com/free-icon/round-add-button_318-77485.jpg' align=\"center\" style=\"width:100px;height:100px;\">\n",
    "\n",
    "# <center><font color='deepskyblue'>What else is there?</font><center>\n",
    "\n",
    "# <font color='darkorange'>Work with Nifti files!</font>\n",
    "### <font color='salmon'>This image makes use of [cbiNifti](https://www.nitrc.org/projects/cbinifti/) package. Just add following lines at the beginning of your Octave-based notebook: </font>\n",
    "<p>\n",
    "<font color='forestgreen'>addpath('/home/jovyan/work/Users/Agah/Desktop/OctaveJN/ReadFrame/mlpipe');</font>\n",
    "<font color='forestgreen'>addpath('/home/jovyan/work/Users/Agah/Desktop/OctaveJN/ReadFrame/Nifti');</font></p>\n",
    "\n",
    "# <font color='darkorange'>Take advantage of Octave packages!</font>\n",
    "### <font color='salmon'>This image includes following packages: </font>\n",
    "<p><font color='forestgreen'>\n",
    "1. **General**\n",
    "2. **IO**\n",
    "3. **Signal**\n",
    "4. **Struct**\n",
    "5. **Control**\n",
    "6. **Image**\n",
    "7. **Statistics**\n",
    "8. **Optim**\n",
    "9. **DICOM**</font></p>\n",
    "\n",
    "<p><font color='gray'>For detailed information about Octave packages, please visit [here](https://octave.sourceforge.io/packages.php).</font></p>\n",
    "\n",
    "<hr>\n"
   ]
  },
  {
   "cell_type": "markdown",
   "metadata": {},
   "source": [
    "<center>The MIT License (MIT)</center>\n",
    "\n",
    "<center>Copyright (c) 2014 Ecole Polytechnique, Université de Montréal</center>\n",
    "\n",
    "Permission is hereby granted, free of charge, to any person obtaining a copy\n",
    "of this software and associated documentation files (the \"Software\"), to deal\n",
    "in the Software without restriction, including without limitation the rights\n",
    "to use, copy, modify, merge, publish, distribute, sublicense, and/or sell\n",
    "copies of the Software, and to permit persons to whom the Software is\n",
    "furnished to do so, subject to the following conditions:\n",
    "\n",
    "The above copyright notice and this permission notice shall be included in all\n",
    "copies or substantial portions of the Software.\n",
    "\n",
    "THE SOFTWARE IS PROVIDED \"AS IS\", WITHOUT WARRANTY OF ANY KIND, EXPRESS OR\n",
    "IMPLIED, INCLUDING BUT NOT LIMITED TO THE WARRANTIES OF MERCHANTABILITY,\n",
    "FITNESS FOR A PARTICULAR PURPOSE AND NONINFRINGEMENT. IN NO EVENT SHALL THE\n",
    "AUTHORS OR COPYRIGHT HOLDERS BE LIABLE FOR ANY CLAIM, DAMAGES OR OTHER\n",
    "LIABILITY, WHETHER IN AN ACTION OF CONTRACT, TORT OR OTHERWISE, ARISING FROM,\n",
    "OUT OF OR IN CONNECTION WITH THE SOFTWARE OR THE USE OR OTHER DEALINGS IN THE\n",
    "SOFTWARE.\n",
    "\n",
    "\n",
    "<img src=\"https://avatars3.githubusercontent.com/u/7755716?v=4&s=200\" align=\"center\" style=\"width:128px;height:128px;\">\n",
    "\n"
   ]
  }
 ],
 "metadata": {
  "kernelspec": {
   "display_name": "Python 2",
   "language": "python",
   "name": "python2"
  },
  "language_info": {
   "codemirror_mode": {
    "name": "ipython",
    "version": 2
   },
   "file_extension": ".py",
   "mimetype": "text/x-python",
   "name": "python",
   "nbconvert_exporter": "python",
   "pygments_lexer": "ipython2",
   "version": "2.7.13"
  }
 },
 "nbformat": 4,
 "nbformat_minor": 2
}
