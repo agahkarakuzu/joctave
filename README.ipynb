{
 "cells": [
  {
   "cell_type": "markdown",
   "metadata": {},
   "source": [
    "<img src=\"http://mybinder.org/assets/images/logo.svg\" align=\"center\">\n",
    "\n",
    "\n",
    "\n",
    "#  <center><font color='deepskyblue'>Welcome to Binderized Octave & Python interactive notebooks!</font></center>\n",
    "\n",
    "\n",
    "## <center><font color='salmon'>Data analysis and visualization. One click away. Interactive. On your browser.</font></center>\n",
    "\n",
    "### <center><font color='darkorange'>[Binder](https://beta.mybinder.org/) provides an easy way to turn a GitHub repo into a collection of interactive notebooks!</font></center>\n",
    "\n"
   ]
  },
  {
   "cell_type": "markdown",
   "metadata": {},
   "source": [
    "## <font color='deepskyblue'>In our [GitHub repo](https://github.com/agahkarakuzu/joctave), we provide two [Jupyter Notebooks](http://jupyter.org/) to load, analyze and visualize our example dataset and a [Dockerfile](https://www.docker.com/) that defines the environment for Binder.</font>\n",
    "\n",
    "# <font color='salmon'>How to run?</font>\n",
    "\n",
    "### <font color='gray'>1. Open MTRDemo.ipynb (Octave based) notebook and follow the instructions to calculate Magnetization Transfer Ratio (MTR) and its correlation with macromolecular pool size (Fmap).</font>\n",
    "\n",
    "### <font color='gray'>2. After running MTRDemo.ipynb, open lgnPlot.ipynb (Python based) notebook and follow the instructions. This will visualize the results by reading the output from the previous notebook. </font>"
   ]
  },
  {
   "cell_type": "markdown",
   "metadata": {},
   "source": [
    "\n",
    "<img src=\"https://avatars3.githubusercontent.com/u/7755716?v=4&s=200\" align=\"center\" style=\"width:128px;height:128px;\">"
   ]
  }
 ],
 "metadata": {
  "kernelspec": {
   "display_name": "Python 2",
   "language": "python",
   "name": "python2"
  },
  "language_info": {
   "codemirror_mode": {
    "name": "ipython",
    "version": 2
   },
   "file_extension": ".py",
   "mimetype": "text/x-python",
   "name": "python",
   "nbconvert_exporter": "python",
   "pygments_lexer": "ipython2",
   "version": "2.7.13"
  }
 },
 "nbformat": 4,
 "nbformat_minor": 2
}
